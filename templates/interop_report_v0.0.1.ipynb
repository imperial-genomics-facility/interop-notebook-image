{
 "cells": [
  {
   "cell_type": "markdown",
   "metadata": {},
   "source": [
    "# Interop report\n",
    "\n",
    "* __Notebook version__: `v0.0.1`\n",
    "* __Created by:__ `Imperial BRC Genomics Facility`\n",
    "* __Maintained by:__ `Imperial BRC Genomics Facility`\n",
    "* __Docker image:__ `imperialgenomicsfacility/interop-notebook-image:release-v0.0.2`\n",
    "* __Github repository:__ [imperial-genomics-facility/interop-notebook-image](https://github.com/imperial-genomics-facility/interop-notebook-image)\n",
    "* __Created on:__ {{ DATE_TAG }}\n",
    "* __Sequencing run id:__ {{ SEQRUN_IGF_ID }}\n",
    "* __Contact us:__ [Imperial BRC Genomics Facility](https://www.imperial.ac.uk/medicine/research-and-impact/facilities/genomics-facility/contact-us/)\n",
    "* __License:__ [Apache License 2.0](https://github.com/imperial-genomics-facility/interop-notebook-image/blob/main/LICENSE)\n",
    "\n",
    "\n",
    "## Table of contents\n",
    "\n",
    "* [Introduction](#Introduction)\n",
    "* [Load library and generate plots](#Load-library-and-generate-plots)\n",
    "* [Report table](#Report-table)\n",
    "* [Plot intensity values](#Plot-intensity-values)\n",
    "* [Plot cluster counts](#Plot-cluster-counts)\n",
    "* [Plot density values](#Plot-density-values)\n",
    "* [Plot QScore distribution by bins](#Plot-QScore-distribution-by-bins)\n",
    "* [Plot QScore distribution by cycles](#Plot-QScore-distribution-by-cycles)\n",
    "\n",
    "## Introduction\n",
    "\n",
    "This report is used for displaying plots and tables from the interop data for Illumina sequencing runs. We use [https://github.com/Illumina/interop](https://github.com/Illumina/interop) library for creating text dump of interop data and then use Python scripts for parsing  and plotting data.\n",
    "\n",
    "## Load library and generate plots"
   ]
  },
  {
   "cell_type": "code",
   "execution_count": null,
   "metadata": {},
   "outputs": [],
   "source": [
    "from interop_data_plot import summary_report_and_plots_for_interop_dump"
   ]
  },
  {
   "cell_type": "code",
   "execution_count": null,
   "metadata": {},
   "outputs": [],
   "source": [
    "(report_table,intensityA_plot,intensityT_plot,intensityG_plot,\n",
    " intensityC_plot,clusterCount_plot,density_plot,qscore_distribution_plot,qscore_bar_plots) = \\\n",
    "  summary_report_and_plots_for_interop_dump(\n",
    "    interop_dump='{{ INTEROP_DUMP_PATH }}'',\n",
    "    runInfoXml_path='{{ RUNINFO_XML_PATH }}')"
   ]
  },
  {
   "cell_type": "markdown",
   "metadata": {},
   "source": [
    "## Report table"
   ]
  },
  {
   "cell_type": "code",
   "execution_count": null,
   "metadata": {},
   "outputs": [],
   "source": [
    "display(report_table)"
   ]
  },
  {
   "cell_type": "markdown",
   "metadata": {},
   "source": [
    "## Plot intensity values"
   ]
  },
  {
   "cell_type": "code",
   "execution_count": null,
   "metadata": {},
   "outputs": [],
   "source": [
    "display(intensityA_plot)"
   ]
  },
  {
   "cell_type": "code",
   "execution_count": null,
   "metadata": {},
   "outputs": [],
   "source": [
    "display(intensityT_plot)"
   ]
  },
  {
   "cell_type": "code",
   "execution_count": null,
   "metadata": {},
   "outputs": [],
   "source": [
    "display(intensityG_plot)"
   ]
  },
  {
   "cell_type": "code",
   "execution_count": null,
   "metadata": {},
   "outputs": [],
   "source": [
    "display(intensityC_plot)"
   ]
  },
  {
   "cell_type": "markdown",
   "metadata": {},
   "source": [
    "## Plot cluster counts"
   ]
  },
  {
   "cell_type": "code",
   "execution_count": null,
   "metadata": {},
   "outputs": [],
   "source": [
    "display(clusterCount_plot)"
   ]
  },
  {
   "cell_type": "markdown",
   "metadata": {},
   "source": [
    "## Plot density values"
   ]
  },
  {
   "cell_type": "code",
   "execution_count": null,
   "metadata": {},
   "outputs": [],
   "source": [
    "display(density_plot)"
   ]
  },
  {
   "cell_type": "markdown",
   "metadata": {},
   "source": [
    "## Plot QScore distribution by bins"
   ]
  },
  {
   "cell_type": "code",
   "execution_count": null,
   "metadata": {},
   "outputs": [],
   "source": [
    "display(qscore_distribution_plot)"
   ]
  },
  {
   "cell_type": "markdown",
   "metadata": {},
   "source": [
    "## Plot QScore distribution by cycles"
   ]
  },
  {
   "cell_type": "code",
   "execution_count": null,
   "metadata": {},
   "outputs": [],
   "source": [
    "for i in qscore_bar_plots:\n",
    "  display(i)"
   ]
  },
  {
   "cell_type": "code",
   "execution_count": null,
   "metadata": {},
   "outputs": [],
   "source": []
  }
 ],
 "metadata": {
  "kernelspec": {
   "display_name": "Python 3",
   "language": "python",
   "name": "python3"
  },
  "language_info": {
   "codemirror_mode": {
    "name": "ipython",
    "version": 3
   },
   "file_extension": ".py",
   "mimetype": "text/x-python",
   "name": "python",
   "nbconvert_exporter": "python",
   "pygments_lexer": "ipython3",
   "version": "3.6.9"
  }
 },
 "nbformat": 4,
 "nbformat_minor": 4
}
